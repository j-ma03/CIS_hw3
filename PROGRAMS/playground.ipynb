{
 "cells": [
  {
   "cell_type": "code",
   "execution_count": 4,
   "metadata": {},
   "outputs": [],
   "source": [
    "from utils.meshgrid import Triangle\n",
    "import numpy as np"
   ]
  },
  {
   "cell_type": "code",
   "execution_count": 5,
   "metadata": {},
   "outputs": [
    {
     "name": "stdout",
     "output_type": "stream",
     "text": [
      "[1.e+02 1.e+07]\n",
      "[[120.     42.      0.   ]\n",
      " [ 51.228  25.614   0.   ]]\n"
     ]
    }
   ],
   "source": [
    "vertices = np.array([\n",
    "\n",
    "     [0, 0, 0],\n",
    "    \n",
    "    [100, 0, 0],\n",
    "\n",
    "    \n",
    "    \n",
    "    [100, 50, 0],\n",
    "\n",
    "    \n",
    "    \n",
    "    \n",
    "])\n",
    "# query = np.array([42.69, 42.69, -10000000], dtype=np.float64).reshape(-1, 3)\n",
    "# query = np.array([1200000000, 42, -10000000000], dtype=np.float64).reshape(1, -1)\n",
    "\n",
    "query = np.array([\n",
    "    [120, 42, -100],\n",
    "    [42.69, 42.69, -10000000]\n",
    "], dtype=np.float64)\n",
    "# query = np.array([75, 10, 0], dtype=np.float64).reshape(1, -1)\n",
    "\n",
    "triangle = Triangle(vertices[0], vertices[1], vertices[2])\n",
    "dist, pt = triangle.closest_distance_to(query)\n",
    "\n",
    "print(dist)\n",
    "print(pt)"
   ]
  }
 ],
 "metadata": {
  "kernelspec": {
   "display_name": "base",
   "language": "python",
   "name": "python3"
  },
  "language_info": {
   "codemirror_mode": {
    "name": "ipython",
    "version": 3
   },
   "file_extension": ".py",
   "mimetype": "text/x-python",
   "name": "python",
   "nbconvert_exporter": "python",
   "pygments_lexer": "ipython3",
   "version": "3.9.15"
  }
 },
 "nbformat": 4,
 "nbformat_minor": 2
}
