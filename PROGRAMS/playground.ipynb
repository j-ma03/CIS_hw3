{
 "cells": [
  {
   "cell_type": "code",
   "execution_count": 1,
   "metadata": {},
   "outputs": [],
   "source": [
    "from utils.meshgrid import Triangle\n",
    "import numpy as np\n",
    "from utils.icp import IterativeClosestPoint"
   ]
  },
  {
   "cell_type": "code",
   "execution_count": 2,
   "metadata": {},
   "outputs": [
    {
     "name": "stdout",
     "output_type": "stream",
     "text": [
      "[1.e+02 1.e+07]\n",
      "[[120.     42.      0.   ]\n",
      " [ 51.228  25.614   0.   ]]\n"
     ]
    }
   ],
   "source": [
    "vertices = np.array([\n",
    "\n",
    "     [0, 0, 0],\n",
    "    \n",
    "    [100, 0, 0],\n",
    "\n",
    "    \n",
    "    \n",
    "    [100, 50, 0],\n",
    "\n",
    "    \n",
    "    \n",
    "    \n",
    "])\n",
    "# query = np.array([42.69, 42.69, -10000000], dtype=np.float64).reshape(-1, 3)\n",
    "# query = np.array([1200000000, 42, -10000000000], dtype=np.float64).reshape(1, -1)\n",
    "\n",
    "query = np.array([\n",
    "    [120, 42, -100],\n",
    "    [42.69, 42.69, -10000000]\n",
    "], dtype=np.float64)\n",
    "# query = np.array([75, 10, 0], dtype=np.float64).reshape(1, -1)\n",
    "\n",
    "triangle = Triangle(vertices[0], vertices[1], vertices[2])\n",
    "dist, pt = triangle.closest_distance_to(query)\n",
    "\n",
    "print(dist)\n",
    "print(pt)"
   ]
  },
  {
   "cell_type": "code",
   "execution_count": 6,
   "metadata": {},
   "outputs": [
    {
     "name": "stdout",
     "output_type": "stream",
     "text": [
      "True\n",
      "[ True False False]\n"
     ]
    }
   ],
   "source": [
    "vertices1 = np.array([\n",
    "    [0, 0, 0],\n",
    "    [100, 0, 0],\n",
    "    [50, 50, 0],\n",
    "])\n",
    "\n",
    "vertices2 = np.array([\n",
    "    [100, 0, 0],\n",
    "    [120, 0, 0],\n",
    "    [120, 25, 0],\n",
    "])\n",
    "\n",
    "triangle1 = Triangle(vertices1[0], vertices1[1], vertices1[2])\n",
    "triangle2 = Triangle(vertices2[0], vertices2[1], vertices2[2])\n",
    "\n",
    "print(triangle1.box().overlaps(triangle2.box()))\n",
    "\n",
    "pts = np.array([\n",
    "    [100, 0, 0],\n",
    "    [120, 0, 0],\n",
    "    [120, 25, 0],\n",
    "])\n",
    "\n",
    "print(triangle1.box().contains(pts))"
   ]
  },
  {
   "cell_type": "code",
   "execution_count": 4,
   "metadata": {},
   "outputs": [
    {
     "name": "stdout",
     "output_type": "stream",
     "text": [
      "(3, 3)\n"
     ]
    },
    {
     "ename": "TypeError",
     "evalue": "'NoneType' object is not iterable",
     "output_type": "error",
     "traceback": [
      "\u001b[0;31m---------------------------------------------------------------------------\u001b[0m",
      "\u001b[0;31mTypeError\u001b[0m                                 Traceback (most recent call last)",
      "\u001b[0;32m/var/folders/c4/jbzqws1x1d785p_ghh6mppwm0000gn/T/ipykernel_31544/3355513675.py\u001b[0m in \u001b[0;36m<module>\u001b[0;34m\u001b[0m\n\u001b[1;32m      1\u001b[0m \u001b[0micp\u001b[0m \u001b[0;34m=\u001b[0m \u001b[0mIterativeClosestPoint\u001b[0m\u001b[0;34m(\u001b[0m\u001b[0;34m)\u001b[0m\u001b[0;34m\u001b[0m\u001b[0;34m\u001b[0m\u001b[0m\n\u001b[1;32m      2\u001b[0m \u001b[0;34m\u001b[0m\u001b[0m\n\u001b[0;32m----> 3\u001b[0;31m \u001b[0micp\u001b[0m\u001b[0;34m.\u001b[0m\u001b[0mmatch\u001b[0m\u001b[0;34m(\u001b[0m\u001b[0mnp\u001b[0m\u001b[0;34m.\u001b[0m\u001b[0mzeros\u001b[0m\u001b[0;34m(\u001b[0m\u001b[0;34m(\u001b[0m\u001b[0;36m3\u001b[0m\u001b[0;34m,\u001b[0m\u001b[0;36m3\u001b[0m\u001b[0;34m)\u001b[0m\u001b[0;34m)\u001b[0m\u001b[0;34m,\u001b[0m \u001b[0;32mNone\u001b[0m\u001b[0;34m)\u001b[0m\u001b[0;34m\u001b[0m\u001b[0;34m\u001b[0m\u001b[0m\n\u001b[0m",
      "\u001b[0;32m~/Documents/JHU/CIS 1/Programming Assignment 3/CIS_hw3/PROGRAMS/utils/icp.py\u001b[0m in \u001b[0;36mmatch\u001b[0;34m(self, pt_cloud, meshgrid)\u001b[0m\n\u001b[1;32m     26\u001b[0m         \"\"\"\n\u001b[1;32m     27\u001b[0m         \u001b[0;32mif\u001b[0m \u001b[0mself\u001b[0m\u001b[0;34m.\u001b[0m\u001b[0mmatch_mode\u001b[0m \u001b[0;34m==\u001b[0m \u001b[0mMatching\u001b[0m\u001b[0;34m.\u001b[0m\u001b[0mLINEAR\u001b[0m\u001b[0;34m:\u001b[0m\u001b[0;34m\u001b[0m\u001b[0;34m\u001b[0m\u001b[0m\n\u001b[0;32m---> 28\u001b[0;31m             \u001b[0;32mreturn\u001b[0m \u001b[0mself\u001b[0m\u001b[0;34m.\u001b[0m\u001b[0m_linear_match\u001b[0m\u001b[0;34m(\u001b[0m\u001b[0mpt_cloud\u001b[0m\u001b[0;34m,\u001b[0m \u001b[0mmeshgrid\u001b[0m\u001b[0;34m)\u001b[0m\u001b[0;34m\u001b[0m\u001b[0;34m\u001b[0m\u001b[0m\n\u001b[0m\u001b[1;32m     29\u001b[0m \u001b[0;34m\u001b[0m\u001b[0m\n\u001b[1;32m     30\u001b[0m     def _linear_match(\n",
      "\u001b[0;32m~/Documents/JHU/CIS 1/Programming Assignment 3/CIS_hw3/PROGRAMS/utils/icp.py\u001b[0m in \u001b[0;36m_linear_match\u001b[0;34m(self, pt_cloud, meshgrid)\u001b[0m\n\u001b[1;32m     37\u001b[0m         \u001b[0mprint\u001b[0m\u001b[0;34m(\u001b[0m\u001b[0mnp\u001b[0m\u001b[0;34m.\u001b[0m\u001b[0mrepeat\u001b[0m\u001b[0;34m(\u001b[0m\u001b[0mmin_dist\u001b[0m\u001b[0;34m.\u001b[0m\u001b[0mreshape\u001b[0m\u001b[0;34m(\u001b[0m\u001b[0;34m-\u001b[0m\u001b[0;36m1\u001b[0m\u001b[0;34m,\u001b[0m \u001b[0;36m1\u001b[0m\u001b[0;34m)\u001b[0m\u001b[0;34m,\u001b[0m \u001b[0;36m3\u001b[0m\u001b[0;34m,\u001b[0m \u001b[0maxis\u001b[0m\u001b[0;34m=\u001b[0m\u001b[0;36m1\u001b[0m\u001b[0;34m)\u001b[0m\u001b[0;34m.\u001b[0m\u001b[0mshape\u001b[0m\u001b[0;34m)\u001b[0m\u001b[0;34m\u001b[0m\u001b[0;34m\u001b[0m\u001b[0m\n\u001b[1;32m     38\u001b[0m \u001b[0;34m\u001b[0m\u001b[0m\n\u001b[0;32m---> 39\u001b[0;31m         \u001b[0;32mfor\u001b[0m \u001b[0mtri\u001b[0m \u001b[0;32min\u001b[0m \u001b[0mmeshgrid\u001b[0m\u001b[0;34m:\u001b[0m\u001b[0;34m\u001b[0m\u001b[0;34m\u001b[0m\u001b[0m\n\u001b[0m\u001b[1;32m     40\u001b[0m             \u001b[0mbox\u001b[0m \u001b[0;34m=\u001b[0m \u001b[0mtri\u001b[0m\u001b[0;34m.\u001b[0m\u001b[0mbox\u001b[0m\u001b[0;34m(\u001b[0m\u001b[0;34m)\u001b[0m\u001b[0;34m\u001b[0m\u001b[0;34m\u001b[0m\u001b[0m\n\u001b[1;32m     41\u001b[0m \u001b[0;34m\u001b[0m\u001b[0m\n",
      "\u001b[0;31mTypeError\u001b[0m: 'NoneType' object is not iterable"
     ]
    }
   ],
   "source": [
    "icp = IterativeClosestPoint()\n",
    "\n",
    "icp.match(np.zeros((3,3)), None)"
   ]
  }
 ],
 "metadata": {
  "kernelspec": {
   "display_name": "base",
   "language": "python",
   "name": "python3"
  },
  "language_info": {
   "codemirror_mode": {
    "name": "ipython",
    "version": 3
   },
   "file_extension": ".py",
   "mimetype": "text/x-python",
   "name": "python",
   "nbconvert_exporter": "python",
   "pygments_lexer": "ipython3",
   "version": "3.9.15"
  }
 },
 "nbformat": 4,
 "nbformat_minor": 2
}
