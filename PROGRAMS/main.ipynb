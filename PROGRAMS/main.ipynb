{
 "cells": [
  {
   "cell_type": "code",
   "execution_count": 1,
   "metadata": {},
   "outputs": [],
   "source": [
    "import numpy as np\n",
    "from utils.dataloader import *\n",
    "from utils.coordinate_calibration import PointCloudRegistration\n",
    "from utils.meshgrid import Meshgrid\n",
    "from utils.icp import IterativeClosestPoint, Matching\n",
    "import os\n",
    "from test import FileOutputMatcher"
   ]
  },
  {
   "cell_type": "code",
   "execution_count": 2,
   "metadata": {},
   "outputs": [],
   "source": [
    "OUTPUT_DIR = './OUTPUT'\n",
    "DATA_DIR = './pa345_data'\n",
    "\n",
    "RIGID_BODY_DATA_A = f'{DATA_DIR}/Problem3-BodyA.txt'\n",
    "RIGID_BODY_DATA_B = f'{DATA_DIR}/Problem3-BodyB.txt'\n",
    "\n",
    "SURFACE_DATA = f'{DATA_DIR}/Problem3MeshFile.sur'\n",
    "\n",
    "SAMPLE_ID = 'B'\n",
    "SAMPLE_DATA = f'./pa345_data/PA3-{SAMPLE_ID}-Debug-SampleReadingsTest.txt'\n",
    "# SAMPLE_DATA = f'./pa345_data/PA3-{SAMPLE_ID}-Unknown-SampleReadingsTest.txt'\n",
    "\n",
    "# Load data files\n",
    "rigidbody_dl_A = RigidBodyDataloader.read_file(RIGID_BODY_DATA_A)\n",
    "rigidbody_dl_B = RigidBodyDataloader.read_file(RIGID_BODY_DATA_B)\n",
    "\n",
    "surface_dl = Surfaceloader.read_file(SURFACE_DATA)\n",
    "sample_dl = SampleReadingsDataloader.read_file(SAMPLE_DATA, delimiter=',', N_A=rigidbody_dl_A.N_markers, N_B=rigidbody_dl_B.N_markers)"
   ]
  },
  {
   "cell_type": "markdown",
   "metadata": {},
   "source": [
    "### Get F<sub>A, k</sub> and F<sub>B, k</sub>"
   ]
  },
  {
   "cell_type": "code",
   "execution_count": 3,
   "metadata": {},
   "outputs": [
    {
     "name": "stdout",
     "output_type": "stream",
     "text": [
      "Performing 3D point cloud registration...\n"
     ]
    },
    {
     "name": "stderr",
     "output_type": "stream",
     "text": [
      "100ep [00:01<00:00, 59.93it/s, err=0.00281]\n"
     ]
    },
    {
     "name": "stdout",
     "output_type": "stream",
     "text": [
      "Done.\n",
      "Performing 3D point cloud registration...\n"
     ]
    },
    {
     "name": "stderr",
     "output_type": "stream",
     "text": [
      "100ep [00:00<00:00, 131.28it/s, err=0.00266]\n"
     ]
    },
    {
     "name": "stdout",
     "output_type": "stream",
     "text": [
      "Done.\n",
      "Performing 3D point cloud registration...\n"
     ]
    },
    {
     "name": "stderr",
     "output_type": "stream",
     "text": [
      "100ep [00:00<00:00, 197.16it/s, err=0.00252]\n"
     ]
    },
    {
     "name": "stdout",
     "output_type": "stream",
     "text": [
      "Done.\n",
      "Performing 3D point cloud registration...\n"
     ]
    },
    {
     "name": "stderr",
     "output_type": "stream",
     "text": [
      "100ep [00:00<00:00, 204.31it/s, err=0.00268]\n"
     ]
    },
    {
     "name": "stdout",
     "output_type": "stream",
     "text": [
      "Done.\n",
      "Performing 3D point cloud registration...\n"
     ]
    },
    {
     "name": "stderr",
     "output_type": "stream",
     "text": [
      "100ep [00:00<00:00, 248.58it/s, err=0.00261]\n"
     ]
    },
    {
     "name": "stdout",
     "output_type": "stream",
     "text": [
      "Done.\n",
      "Performing 3D point cloud registration...\n"
     ]
    },
    {
     "name": "stderr",
     "output_type": "stream",
     "text": [
      "100ep [00:00<00:00, 137.56it/s, err=0.00231]\n"
     ]
    },
    {
     "name": "stdout",
     "output_type": "stream",
     "text": [
      "Done.\n",
      "Performing 3D point cloud registration...\n"
     ]
    },
    {
     "name": "stderr",
     "output_type": "stream",
     "text": [
      "100ep [00:00<00:00, 154.11it/s, err=0.00321]\n"
     ]
    },
    {
     "name": "stdout",
     "output_type": "stream",
     "text": [
      "Done.\n",
      "Performing 3D point cloud registration...\n"
     ]
    },
    {
     "name": "stderr",
     "output_type": "stream",
     "text": [
      "100ep [00:00<00:00, 212.35it/s, err=0.0032]\n"
     ]
    },
    {
     "name": "stdout",
     "output_type": "stream",
     "text": [
      "Done.\n",
      "Performing 3D point cloud registration...\n"
     ]
    },
    {
     "name": "stderr",
     "output_type": "stream",
     "text": [
      "100ep [00:00<00:00, 192.03it/s, err=0.00324]\n"
     ]
    },
    {
     "name": "stdout",
     "output_type": "stream",
     "text": [
      "Done.\n",
      "Performing 3D point cloud registration...\n"
     ]
    },
    {
     "name": "stderr",
     "output_type": "stream",
     "text": [
      "100ep [00:00<00:00, 271.71it/s, err=0.00231]\n"
     ]
    },
    {
     "name": "stdout",
     "output_type": "stream",
     "text": [
      "Done.\n",
      "Performing 3D point cloud registration...\n"
     ]
    },
    {
     "name": "stderr",
     "output_type": "stream",
     "text": [
      "100ep [00:00<00:00, 256.30it/s, err=0.00281]\n"
     ]
    },
    {
     "name": "stdout",
     "output_type": "stream",
     "text": [
      "Done.\n",
      "Performing 3D point cloud registration...\n"
     ]
    },
    {
     "name": "stderr",
     "output_type": "stream",
     "text": [
      "100ep [00:00<00:00, 272.45it/s, err=0.00224]\n"
     ]
    },
    {
     "name": "stdout",
     "output_type": "stream",
     "text": [
      "Done.\n",
      "Performing 3D point cloud registration...\n"
     ]
    },
    {
     "name": "stderr",
     "output_type": "stream",
     "text": [
      "100ep [00:00<00:00, 215.65it/s, err=0.00248]\n"
     ]
    },
    {
     "name": "stdout",
     "output_type": "stream",
     "text": [
      "Done.\n",
      "Performing 3D point cloud registration...\n"
     ]
    },
    {
     "name": "stderr",
     "output_type": "stream",
     "text": [
      "100ep [00:00<00:00, 248.88it/s, err=0.00225]\n"
     ]
    },
    {
     "name": "stdout",
     "output_type": "stream",
     "text": [
      "Done.\n",
      "Performing 3D point cloud registration...\n"
     ]
    },
    {
     "name": "stderr",
     "output_type": "stream",
     "text": [
      "100ep [00:00<00:00, 246.20it/s, err=0.00316]\n"
     ]
    },
    {
     "name": "stdout",
     "output_type": "stream",
     "text": [
      "Done.\n",
      "Performing 3D point cloud registration...\n"
     ]
    },
    {
     "name": "stderr",
     "output_type": "stream",
     "text": [
      "100ep [00:00<00:00, 209.21it/s, err=0.00226]\n"
     ]
    },
    {
     "name": "stdout",
     "output_type": "stream",
     "text": [
      "Done.\n",
      "Performing 3D point cloud registration...\n"
     ]
    },
    {
     "name": "stderr",
     "output_type": "stream",
     "text": [
      "100ep [00:00<00:00, 175.77it/s, err=0.00226]\n"
     ]
    },
    {
     "name": "stdout",
     "output_type": "stream",
     "text": [
      "Done.\n",
      "Performing 3D point cloud registration...\n"
     ]
    },
    {
     "name": "stderr",
     "output_type": "stream",
     "text": [
      "100ep [00:00<00:00, 234.34it/s, err=0.00226]\n"
     ]
    },
    {
     "name": "stdout",
     "output_type": "stream",
     "text": [
      "Done.\n",
      "Performing 3D point cloud registration...\n"
     ]
    },
    {
     "name": "stderr",
     "output_type": "stream",
     "text": [
      "100ep [00:00<00:00, 176.60it/s, err=0.00226]\n"
     ]
    },
    {
     "name": "stdout",
     "output_type": "stream",
     "text": [
      "Done.\n",
      "Performing 3D point cloud registration...\n"
     ]
    },
    {
     "name": "stderr",
     "output_type": "stream",
     "text": [
      "100ep [00:00<00:00, 212.53it/s, err=0.00226]\n"
     ]
    },
    {
     "name": "stdout",
     "output_type": "stream",
     "text": [
      "Done.\n",
      "Performing 3D point cloud registration...\n"
     ]
    },
    {
     "name": "stderr",
     "output_type": "stream",
     "text": [
      "100ep [00:00<00:00, 233.39it/s, err=0.00226]\n"
     ]
    },
    {
     "name": "stdout",
     "output_type": "stream",
     "text": [
      "Done.\n",
      "Performing 3D point cloud registration...\n"
     ]
    },
    {
     "name": "stderr",
     "output_type": "stream",
     "text": [
      "100ep [00:00<00:00, 173.10it/s, err=0.00226]\n"
     ]
    },
    {
     "name": "stdout",
     "output_type": "stream",
     "text": [
      "Done.\n",
      "Performing 3D point cloud registration...\n"
     ]
    },
    {
     "name": "stderr",
     "output_type": "stream",
     "text": [
      "100ep [00:00<00:00, 215.19it/s, err=0.00226]\n"
     ]
    },
    {
     "name": "stdout",
     "output_type": "stream",
     "text": [
      "Done.\n",
      "Performing 3D point cloud registration...\n"
     ]
    },
    {
     "name": "stderr",
     "output_type": "stream",
     "text": [
      "100ep [00:00<00:00, 190.12it/s, err=0.00226]\n"
     ]
    },
    {
     "name": "stdout",
     "output_type": "stream",
     "text": [
      "Done.\n",
      "Performing 3D point cloud registration...\n"
     ]
    },
    {
     "name": "stderr",
     "output_type": "stream",
     "text": [
      "100ep [00:00<00:00, 123.27it/s, err=0.00226]\n"
     ]
    },
    {
     "name": "stdout",
     "output_type": "stream",
     "text": [
      "Done.\n",
      "Performing 3D point cloud registration...\n"
     ]
    },
    {
     "name": "stderr",
     "output_type": "stream",
     "text": [
      "100ep [00:00<00:00, 240.53it/s, err=0.00226]\n"
     ]
    },
    {
     "name": "stdout",
     "output_type": "stream",
     "text": [
      "Done.\n",
      "Performing 3D point cloud registration...\n"
     ]
    },
    {
     "name": "stderr",
     "output_type": "stream",
     "text": [
      "100ep [00:00<00:00, 253.76it/s, err=0.00226]\n"
     ]
    },
    {
     "name": "stdout",
     "output_type": "stream",
     "text": [
      "Done.\n",
      "Performing 3D point cloud registration...\n"
     ]
    },
    {
     "name": "stderr",
     "output_type": "stream",
     "text": [
      "100ep [00:00<00:00, 189.55it/s, err=0.00226]\n"
     ]
    },
    {
     "name": "stdout",
     "output_type": "stream",
     "text": [
      "Done.\n",
      "Performing 3D point cloud registration...\n"
     ]
    },
    {
     "name": "stderr",
     "output_type": "stream",
     "text": [
      "100ep [00:00<00:00, 167.51it/s, err=0.00226]\n"
     ]
    },
    {
     "name": "stdout",
     "output_type": "stream",
     "text": [
      "Done.\n",
      "Performing 3D point cloud registration...\n"
     ]
    },
    {
     "name": "stderr",
     "output_type": "stream",
     "text": [
      "100ep [00:00<00:00, 358.38it/s, err=0.00226]"
     ]
    },
    {
     "name": "stdout",
     "output_type": "stream",
     "text": [
      "Done.\n"
     ]
    },
    {
     "name": "stderr",
     "output_type": "stream",
     "text": [
      "\n"
     ]
    }
   ],
   "source": [
    "rigidbody_dl_A_markers = rigidbody_dl_A.markers.reshape(1, -1, 3) # markers of body A in body A coordinates\n",
    "\n",
    "sample_dl_A = sample_dl.body_A # samples of body A markers in tracker coordinates\n",
    "num_samples = sample_dl.N_samps\n",
    "\n",
    "# perform registration for each frame\n",
    "reg = PointCloudRegistration()\n",
    "F_A = []\n",
    "for i in range(num_samples):\n",
    "    sample_dl_A_i = sample_dl_A[i].reshape(1, -1, 3)\n",
    "    F_A_i, err = reg.register(rigidbody_dl_A_markers, sample_dl_A_i)\n",
    "    F_A.append(F_A_i)\n",
    "\n",
    "F_A = np.array(F_A)\n",
    "\n",
    "ridigbody_dl_B_markers = rigidbody_dl_B.markers.reshape(1, -1, 3) # markers of body B in body B coordinates\n",
    "sample_dl_B = sample_dl.body_B # samples of body B markers in tracker coordinates\n",
    "\n",
    "# perform registration for each frame\n",
    "F_B = []\n",
    "for i in range(num_samples):\n",
    "    sample_dl_B_i = sample_dl_B[i].reshape(1, -1, 3)\n",
    "\n",
    "    F_B_i, err = reg.register(ridigbody_dl_B_markers, sample_dl_B_i)\n",
    "    F_B.append(F_B_i)\n",
    "\n",
    "F_B = np.array(F_B)"
   ]
  },
  {
   "cell_type": "markdown",
   "metadata": {},
   "source": [
    "### Get d<sub>k"
   ]
  },
  {
   "cell_type": "code",
   "execution_count": 4,
   "metadata": {},
   "outputs": [
    {
     "name": "stdout",
     "output_type": "stream",
     "text": [
      "(15, 3)\n",
      "[[-37.64833678  -9.48581429 -12.76682898]\n",
      " [-18.60510135  -9.65676445  -4.29505254]\n",
      " [ -2.14008856  -7.91886808  52.44877509]\n",
      " [ 17.87241499 -12.57782081   1.66919045]\n",
      " [-13.95441346  21.50282627  25.2969365 ]\n",
      " [ 28.96426532  19.0550331  -13.73958009]\n",
      " [ 24.2614743   22.12267255  -1.99781554]\n",
      " [-27.75457871 -23.80052244 -48.36744324]\n",
      " [-28.46403537   7.90253067 -35.89238329]\n",
      " [-12.65584902   9.56599089  12.90058673]\n",
      " [-27.11807733 -28.65576806 -14.35566804]\n",
      " [ 37.25503378   5.25779861   4.71164992]\n",
      " [ 20.17629056 -14.87243941  -4.87098927]\n",
      " [ -4.2582231   12.83878122  54.08074924]\n",
      " [ 32.08328176  15.8541175   -2.09464545]]\n"
     ]
    }
   ],
   "source": [
    "A_tip = rigidbody_dl_A.tip\n",
    "A_tip = np.append(A_tip, 1) # add 1 for homogenous coordinates\n",
    "d_k = []\n",
    "\n",
    "for i in range(num_samples):\n",
    "    F_A_i = F_A[i] # get F_A for frame i\n",
    "    F_B_i_inv = np.linalg.inv(F_B[i]) # get F_B inverse for frame i\n",
    "\n",
    "    d_k.append(F_B_i_inv @ F_A_i @ A_tip) # d_k = F_B^-1 * F_A * A_tip\n",
    "\n",
    "d_k = np.array(d_k)[:,:3]\n",
    "print(d_k.shape)\n",
    "print(d_k)"
   ]
  },
  {
   "cell_type": "code",
   "execution_count": null,
   "metadata": {},
   "outputs": [
    {
     "name": "stdout",
     "output_type": "stream",
     "text": [
      "Closest points: [[-38.82  -9.64 -11.91]\n",
      " [-19.12  -9.7   -2.94]\n",
      " [ -1.19  -5.73  52.65]\n",
      " [ 17.86 -12.56   1.66]\n",
      " [-14.6   22.22  25.28]\n",
      " [ 30.81  20.12 -13.97]\n",
      " [ 25.46  24.26  -2.07]\n",
      " [-27.05 -21.42 -45.7 ]\n",
      " [-28.55   8.08 -36.  ]\n",
      " [-11.2    8.79  13.3 ]\n",
      " [-27.08 -28.51 -14.42]\n",
      " [ 39.65   4.99   4.85]\n",
      " [ 20.58 -15.33  -4.37]\n",
      " [ -4.79  13.09  54.15]\n",
      " [ 33.31  16.96  -2.28]]\n",
      "Closest distances: [1.463 1.449 2.399 0.021 0.969 2.14  2.455 3.641 0.226 1.698 0.164 2.412\n",
      " 0.79  0.588 1.657]\n"
     ]
    }
   ],
   "source": [
    "# Select algorithm for finding closest point\n",
    "# Choices: SIMPLE_LINEAR, VECTORIZED_LINEAR, SIMPLE_OCTREE, VECTORIZED_OCTREE\n",
    "matching_algo = Matching.VECTORIZED_LINEAR  # VECTORIZED_LINEAR is the fastest\n",
    "\n",
    "# Initialize ICP helper class \n",
    "icp = IterativeClosestPoint(matching_algo)\n",
    "\n",
    "# Initialize meshgrid of Triangles\n",
    "mesh = Meshgrid(surface_dl.vertices, surface_dl.triangles)\n",
    "\n",
    "# Find closest points and euclidean distances\n",
    "pt, dist = icp.match(d_k, mesh)\n",
    "\n",
    "print(f'Closest points: {np.around(pt, 2)}')\n",
    "print(f'Closest distances: {np.around(dist, 3)}')"
   ]
  },
  {
   "cell_type": "markdown",
   "metadata": {},
   "source": [
    "### write output to file"
   ]
  },
  {
   "cell_type": "code",
   "execution_count": 6,
   "metadata": {},
   "outputs": [
    {
     "name": "stdout",
     "output_type": "stream",
     "text": [
      "Output written to ./OUTPUT/pa3-B-Output.txt\n"
     ]
    }
   ],
   "source": [
    "output_file = f'{OUTPUT_DIR}/pa3-{SAMPLE_ID}-Output.txt'\n",
    "with open(output_file, 'w') as file:\n",
    "    file.write(f\"{num_samples}, {output_file}\\n\")\n",
    "    for sample in range(num_samples):\n",
    "        file.write(f\"{d_k[sample][0]:.2f} {d_k[sample][1]:.2f} {d_k[sample][2]:.2f} \")\n",
    "        file.write(f\"{pt[sample][0]:.2f} {pt[sample][1]:.2f} {pt[sample][2]:.2f}\")\n",
    "        file.write(f\" {dist[sample]:.2f}\")\n",
    "        file.write(\"\\n\")\n",
    "\n",
    "print(f\"Output written to {output_file}\")\n"
   ]
  },
  {
   "cell_type": "code",
   "execution_count": 7,
   "metadata": {},
   "outputs": [
    {
     "name": "stdout",
     "output_type": "stream",
     "text": [
      "Error analysis for sample A:\n",
      "MAE of pointer tip in body B coordinates: (0.0038451622, 0.0072913724, 0.0018814723)\n",
      "MAE of closest point on surface in CT coordinates: (0.0031657636, 0.005367279, 0.0013563792)\n",
      "MAE of the norm of the difference: 0.0032665999606251717\n",
      "\n",
      "\n",
      "Error analysis for sample B:\n",
      "MAE of pointer tip in body B coordinates: (0.0013332367, 0.00533336, 0.0006666819)\n",
      "MAE of closest point on surface in CT coordinates: (0.0019999743, 0.0013333638, 0.0)\n",
      "MAE of the norm of the difference: 0.0032666500192135572\n",
      "\n",
      "\n",
      "Error analysis for sample C:\n",
      "MAE of pointer tip in body B coordinates: (0.002441295, 0.004419346, 0.003953846)\n",
      "MAE of closest point on surface in CT coordinates: (0.0033328296, 0.0038325726, 0.002295367)\n",
      "MAE of the norm of the difference: 0.0020036071073263884\n",
      "\n",
      "\n",
      "Error analysis for sample D:\n",
      "MAE of pointer tip in body B coordinates: (0.0046200277, 0.0049936534, 0.0020193835)\n",
      "MAE of closest point on surface in CT coordinates: (0.0032187144, 0.0030613265, 0.0026649297)\n",
      "MAE of the norm of the difference: 0.004843584727495909\n",
      "\n",
      "\n",
      "Error analysis for sample E:\n",
      "MAE of pointer tip in body B coordinates: (0.005185676, 0.0059423684, 0.0033158213)\n",
      "MAE of closest point on surface in CT coordinates: (0.004330047, 0.0046450696, 0.0030728083)\n",
      "MAE of the norm of the difference: 0.002840641653165221\n",
      "\n",
      "\n",
      "Error analysis for sample F:\n",
      "MAE of pointer tip in body B coordinates: (0.0040275017, 0.004847715, 0.0026845296)\n",
      "MAE of closest point on surface in CT coordinates: (0.0027817965, 0.0036837042, 0.0033420562)\n",
      "MAE of the norm of the difference: 0.0031092027202248573\n",
      "\n",
      "\n"
     ]
    }
   ],
   "source": [
    "for SAMPLE_ID in ['A', 'B', 'C', 'D', 'E', 'F']:\n",
    "    pred_file = f'{OUTPUT_DIR}/pa3-{SAMPLE_ID}-Output.txt'\n",
    "    gt_file = f'{DATA_DIR}/PA3-{SAMPLE_ID}-Debug-Output.txt'\n",
    "\n",
    "    if os.path.exists(pred_file) and os.path.exists(gt_file):\n",
    "        matcher = FileOutputMatcher()\n",
    "\n",
    "        error_d_k, error_c_k, error_norm = matcher(pred_file, gt_file)\n",
    "\n",
    "        print(f'Error analysis for sample {SAMPLE_ID}:')\n",
    "        print(f'MAE of pointer tip in body B coordinates: {error_d_k}')\n",
    "        print(f'MAE of closest point on surface in CT coordinates: {error_c_k}')\n",
    "        print(f'MAE of the norm of the difference: {error_norm}')\n",
    "        print(\"\\n\")\n",
    "    else:\n",
    "        print('No prediction or ground-truth file found. Skipping operation.')"
   ]
  }
 ],
 "metadata": {
  "kernelspec": {
   "display_name": "Python 3",
   "language": "python",
   "name": "python3"
  },
  "language_info": {
   "codemirror_mode": {
    "name": "ipython",
    "version": 3
   },
   "file_extension": ".py",
   "mimetype": "text/x-python",
   "name": "python",
   "nbconvert_exporter": "python",
   "pygments_lexer": "ipython3",
   "version": "3.11.1"
  }
 },
 "nbformat": 4,
 "nbformat_minor": 2
}
