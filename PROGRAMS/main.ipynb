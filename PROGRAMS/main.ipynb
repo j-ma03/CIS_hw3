{
 "cells": [
  {
   "cell_type": "code",
   "execution_count": 2,
   "metadata": {},
   "outputs": [
    {
     "name": "stdout",
     "output_type": "stream",
     "text": [
      "1568\n",
      "3135\n",
      "(1568, 3)\n",
      "(3135, 6)\n"
     ]
    }
   ],
   "source": [
    "from utils.dataloader import *\n",
    "\n",
    "RIGID_BODY_DATA_A = f'./pa345_data/Problem3-BodyA.txt'\n",
    "RIGID_BODY_DATA_B = f'./pa345_data/Problem3-BodyB.txt'\n",
    "\n",
    "SURFACE_DATA = f'./pa345_data/Problem3MeshFile.sur'\n",
    "\n",
    "SAMPLE_DATA = f'./pa345_data/PA3-B-Debug-SampleReadingsTest.txt'\n",
    "\n",
    "rigidbody_dl_A = RigidBodyDataloader.read_file(RIGID_BODY_DATA_A)\n",
    "rigidbody_dl_B = RigidBodyDataloader.read_file(RIGID_BODY_DATA_B)\n",
    "\n",
    "# print(\"rigid body\")\n",
    "# print(rigidbody_dl_A.markers)\n",
    "# print(rigidbody_dl_A.tip)\n",
    "\n",
    "surface_dl = Surfaceloader.read_file(SURFACE_DATA)\n",
    "# print(\"surface\")\n",
    "print(surface_dl.N_vertices)\n",
    "print(surface_dl.N_triangles)\n",
    "print(surface_dl.vertices.shape)\n",
    "print(surface_dl.triangles.shape)\n",
    "\n",
    "# sample_dl = SampleReadingsDataloader.read_file(SAMPLE_DATA, delimiter=',', N_A=rigidbody_dl_A.N_markers, N_B=rigidbody_dl_B.N_markers)\n",
    "# print(\"sample A\", sample_dl.body_A)\n",
    "# print(\"sample B\", sample_dl.body_B)\n",
    "# print(\"dummy\", sample_dl.dummy)"
   ]
  }
 ],
 "metadata": {
  "kernelspec": {
   "display_name": "Python 3",
   "language": "python",
   "name": "python3"
  },
  "language_info": {
   "codemirror_mode": {
    "name": "ipython",
    "version": 3
   },
   "file_extension": ".py",
   "mimetype": "text/x-python",
   "name": "python",
   "nbconvert_exporter": "python",
   "pygments_lexer": "ipython3",
   "version": "3.11.1"
  }
 },
 "nbformat": 4,
 "nbformat_minor": 2
}
