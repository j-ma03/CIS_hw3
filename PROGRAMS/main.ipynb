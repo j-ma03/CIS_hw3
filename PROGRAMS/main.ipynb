{
 "cells": [
  {
   "cell_type": "code",
   "execution_count": 1,
   "metadata": {},
   "outputs": [],
   "source": [
    "import numpy as np\n",
    "from utils.dataloader import *\n",
    "from utils.coordinate_calibration import PointCloudRegistration\n",
    "from utils.meshgrid import Meshgrid\n",
    "from utils.icp import IterativeClosestPoint, Matching"
   ]
  },
  {
   "cell_type": "code",
   "execution_count": 2,
   "metadata": {},
   "outputs": [],
   "source": [
    "RIGID_BODY_DATA_A = f'./pa345_data/Problem3-BodyA.txt'\n",
    "RIGID_BODY_DATA_B = f'./pa345_data/Problem3-BodyB.txt'\n",
    "\n",
    "SURFACE_DATA = f'./pa345_data/Problem3MeshFile.sur'\n",
    "# SURFACE_DATA = f'./pa345_data/test.sur'\n",
    "\n",
    "SAMPLE_DATA = f'./pa345_data/PA3-B-Debug-SampleReadingsTest.txt'\n",
    "\n",
    "rigidbody_dl_A = RigidBodyDataloader.read_file(RIGID_BODY_DATA_A)\n",
    "rigidbody_dl_B = RigidBodyDataloader.read_file(RIGID_BODY_DATA_B)\n",
    "\n",
    "# print(\"rigid body\")\n",
    "# print(rigidbody_dl_A.markers)\n",
    "# print(rigidbody_dl_A.tip)\n",
    "\n",
    "surface_dl = Surfaceloader.read_file(SURFACE_DATA)\n",
    "# print(\"surface\")\n",
    "# print(surface_dl.N_vertices)\n",
    "# print(surface_dl.N_triangles)\n",
    "# print(surface_dl.vertices.shape)\n",
    "# print(surface_dl.triangles.shape)\n",
    "\n",
    "sample_dl = SampleReadingsDataloader.read_file(SAMPLE_DATA, delimiter=',', N_A=rigidbody_dl_A.N_markers, N_B=rigidbody_dl_B.N_markers)\n",
    "# print(\"sample A\", sample_dl.body_A)\n",
    "# print(\"sample B\", sample_dl.body_B)\n",
    "# print(\"dummy\", sample_dl.dummy)"
   ]
  },
  {
   "cell_type": "markdown",
   "metadata": {},
   "source": [
    "### Get F<sub>A, k</sub> and F<sub>B, k</sub>"
   ]
  },
  {
   "cell_type": "code",
   "execution_count": 3,
   "metadata": {},
   "outputs": [
    {
     "name": "stdout",
     "output_type": "stream",
     "text": [
      "Performing 3D point cloud registration...\n"
     ]
    },
    {
     "name": "stderr",
     "output_type": "stream",
     "text": [
      "100ep [00:00<00:00, 352.90it/s, err=0.00281]\n"
     ]
    },
    {
     "name": "stdout",
     "output_type": "stream",
     "text": [
      "Done.\n",
      "Performing 3D point cloud registration...\n"
     ]
    },
    {
     "name": "stderr",
     "output_type": "stream",
     "text": [
      "100ep [00:00<00:00, 968.54it/s, err=0.00266]\n"
     ]
    },
    {
     "name": "stdout",
     "output_type": "stream",
     "text": [
      "Done.\n",
      "Performing 3D point cloud registration...\n"
     ]
    },
    {
     "name": "stderr",
     "output_type": "stream",
     "text": [
      "100ep [00:00<00:00, 661.72it/s, err=0.00252]\n"
     ]
    },
    {
     "name": "stdout",
     "output_type": "stream",
     "text": [
      "Done.\n",
      "Performing 3D point cloud registration...\n"
     ]
    },
    {
     "name": "stderr",
     "output_type": "stream",
     "text": [
      "100ep [00:00<00:00, 782.04it/s, err=0.00268]\n"
     ]
    },
    {
     "name": "stdout",
     "output_type": "stream",
     "text": [
      "Done.\n",
      "Performing 3D point cloud registration...\n"
     ]
    },
    {
     "name": "stderr",
     "output_type": "stream",
     "text": [
      "100ep [00:00<00:00, 432.45it/s, err=0.00261]\n"
     ]
    },
    {
     "name": "stdout",
     "output_type": "stream",
     "text": [
      "Done.\n",
      "Performing 3D point cloud registration...\n"
     ]
    },
    {
     "name": "stderr",
     "output_type": "stream",
     "text": [
      "100ep [00:00<00:00, 580.90it/s, err=0.00231]\n"
     ]
    },
    {
     "name": "stdout",
     "output_type": "stream",
     "text": [
      "Done.\n",
      "Performing 3D point cloud registration...\n"
     ]
    },
    {
     "name": "stderr",
     "output_type": "stream",
     "text": [
      "100ep [00:00<00:00, 743.40it/s, err=0.00321]\n"
     ]
    },
    {
     "name": "stdout",
     "output_type": "stream",
     "text": [
      "Done.\n",
      "Performing 3D point cloud registration...\n"
     ]
    },
    {
     "name": "stderr",
     "output_type": "stream",
     "text": [
      "100ep [00:00<00:00, 573.54it/s, err=0.0032]\n"
     ]
    },
    {
     "name": "stdout",
     "output_type": "stream",
     "text": [
      "Done.\n",
      "Performing 3D point cloud registration...\n"
     ]
    },
    {
     "name": "stderr",
     "output_type": "stream",
     "text": [
      "100ep [00:00<00:00, 932.31it/s, err=0.00324]\n"
     ]
    },
    {
     "name": "stdout",
     "output_type": "stream",
     "text": [
      "Done.\n",
      "Performing 3D point cloud registration...\n"
     ]
    },
    {
     "name": "stderr",
     "output_type": "stream",
     "text": [
      "100ep [00:00<00:00, 438.72it/s, err=0.00231]\n"
     ]
    },
    {
     "name": "stdout",
     "output_type": "stream",
     "text": [
      "Done.\n",
      "Performing 3D point cloud registration...\n"
     ]
    },
    {
     "name": "stderr",
     "output_type": "stream",
     "text": [
      "100ep [00:00<00:00, 303.55it/s, err=0.00281]\n"
     ]
    },
    {
     "name": "stdout",
     "output_type": "stream",
     "text": [
      "Done.\n",
      "Performing 3D point cloud registration...\n"
     ]
    },
    {
     "name": "stderr",
     "output_type": "stream",
     "text": [
      "100ep [00:00<00:00, 712.99it/s, err=0.00224]\n"
     ]
    },
    {
     "name": "stdout",
     "output_type": "stream",
     "text": [
      "Done.\n",
      "Performing 3D point cloud registration...\n"
     ]
    },
    {
     "name": "stderr",
     "output_type": "stream",
     "text": [
      "100ep [00:00<00:00, 469.68it/s, err=0.00248]\n"
     ]
    },
    {
     "name": "stdout",
     "output_type": "stream",
     "text": [
      "Done.\n",
      "Performing 3D point cloud registration...\n"
     ]
    },
    {
     "name": "stderr",
     "output_type": "stream",
     "text": [
      "100ep [00:00<00:00, 816.89it/s, err=0.00225]\n"
     ]
    },
    {
     "name": "stdout",
     "output_type": "stream",
     "text": [
      "Done.\n",
      "Performing 3D point cloud registration...\n"
     ]
    },
    {
     "name": "stderr",
     "output_type": "stream",
     "text": [
      "100ep [00:00<00:00, 1501.17it/s, err=0.00316]\n"
     ]
    },
    {
     "name": "stdout",
     "output_type": "stream",
     "text": [
      "Done.\n",
      "Performing 3D point cloud registration...\n"
     ]
    },
    {
     "name": "stderr",
     "output_type": "stream",
     "text": [
      "100ep [00:00<00:00, 748.46it/s, err=0.00226]\n"
     ]
    },
    {
     "name": "stdout",
     "output_type": "stream",
     "text": [
      "Done.\n",
      "Performing 3D point cloud registration...\n"
     ]
    },
    {
     "name": "stderr",
     "output_type": "stream",
     "text": [
      "100ep [00:00<00:00, 757.33it/s, err=0.00226]\n"
     ]
    },
    {
     "name": "stdout",
     "output_type": "stream",
     "text": [
      "Done.\n",
      "Performing 3D point cloud registration...\n"
     ]
    },
    {
     "name": "stderr",
     "output_type": "stream",
     "text": [
      "100ep [00:00<00:00, 1138.01it/s, err=0.00226]\n"
     ]
    },
    {
     "name": "stdout",
     "output_type": "stream",
     "text": [
      "Done.\n",
      "Performing 3D point cloud registration...\n"
     ]
    },
    {
     "name": "stderr",
     "output_type": "stream",
     "text": [
      "100ep [00:00<00:00, 495.97it/s, err=0.00226]\n"
     ]
    },
    {
     "name": "stdout",
     "output_type": "stream",
     "text": [
      "Done.\n",
      "Performing 3D point cloud registration...\n"
     ]
    },
    {
     "name": "stderr",
     "output_type": "stream",
     "text": [
      "100ep [00:00<00:00, 497.63it/s, err=0.00226]\n"
     ]
    },
    {
     "name": "stdout",
     "output_type": "stream",
     "text": [
      "Done.\n",
      "Performing 3D point cloud registration...\n"
     ]
    },
    {
     "name": "stderr",
     "output_type": "stream",
     "text": [
      "100ep [00:00<00:00, 942.70it/s, err=0.00226]\n"
     ]
    },
    {
     "name": "stdout",
     "output_type": "stream",
     "text": [
      "Done.\n",
      "Performing 3D point cloud registration...\n"
     ]
    },
    {
     "name": "stderr",
     "output_type": "stream",
     "text": [
      "100ep [00:00<00:00, 731.91it/s, err=0.00226]\n"
     ]
    },
    {
     "name": "stdout",
     "output_type": "stream",
     "text": [
      "Done.\n",
      "Performing 3D point cloud registration...\n"
     ]
    },
    {
     "name": "stderr",
     "output_type": "stream",
     "text": [
      "100ep [00:00<00:00, 786.16it/s, err=0.00226]\n"
     ]
    },
    {
     "name": "stdout",
     "output_type": "stream",
     "text": [
      "Done.\n",
      "Performing 3D point cloud registration...\n"
     ]
    },
    {
     "name": "stderr",
     "output_type": "stream",
     "text": [
      "100ep [00:00<00:00, 1495.66it/s, err=0.00226]\n"
     ]
    },
    {
     "name": "stdout",
     "output_type": "stream",
     "text": [
      "Done.\n",
      "Performing 3D point cloud registration...\n"
     ]
    },
    {
     "name": "stderr",
     "output_type": "stream",
     "text": [
      "100ep [00:00<00:00, 722.67it/s, err=0.00226]\n"
     ]
    },
    {
     "name": "stdout",
     "output_type": "stream",
     "text": [
      "Done.\n",
      "Performing 3D point cloud registration...\n"
     ]
    },
    {
     "name": "stderr",
     "output_type": "stream",
     "text": [
      "100ep [00:00<00:00, 562.12it/s, err=0.00226]\n"
     ]
    },
    {
     "name": "stdout",
     "output_type": "stream",
     "text": [
      "Done.\n",
      "Performing 3D point cloud registration...\n"
     ]
    },
    {
     "name": "stderr",
     "output_type": "stream",
     "text": [
      "100ep [00:00<00:00, 844.77it/s, err=0.00226]\n"
     ]
    },
    {
     "name": "stdout",
     "output_type": "stream",
     "text": [
      "Done.\n",
      "Performing 3D point cloud registration...\n"
     ]
    },
    {
     "name": "stderr",
     "output_type": "stream",
     "text": [
      "100ep [00:00<00:00, 652.44it/s, err=0.00226]\n"
     ]
    },
    {
     "name": "stdout",
     "output_type": "stream",
     "text": [
      "Done.\n",
      "Performing 3D point cloud registration...\n"
     ]
    },
    {
     "name": "stderr",
     "output_type": "stream",
     "text": [
      "100ep [00:00<00:00, 719.06it/s, err=0.00226]\n"
     ]
    },
    {
     "name": "stdout",
     "output_type": "stream",
     "text": [
      "Done.\n",
      "Performing 3D point cloud registration...\n"
     ]
    },
    {
     "name": "stderr",
     "output_type": "stream",
     "text": [
      "100ep [00:00<00:00, 1189.77it/s, err=0.00226]"
     ]
    },
    {
     "name": "stdout",
     "output_type": "stream",
     "text": [
      "Done.\n"
     ]
    },
    {
     "name": "stderr",
     "output_type": "stream",
     "text": [
      "\n"
     ]
    }
   ],
   "source": [
    "# TODO get F_A\n",
    "rigidbody_dl_A_markers = rigidbody_dl_A.markers.reshape(1, -1, 3) # markers of body A in body A coordinates\n",
    "\n",
    "sample_dl_A = sample_dl.body_A # samples of body A markers in tracker coordinates\n",
    "num_samples = sample_dl.N_samps\n",
    "\n",
    "# perform registration for each frame\n",
    "reg_F_A = PointCloudRegistration()\n",
    "F_A = []\n",
    "for i in range(num_samples):\n",
    "    sample_dl_A_i = sample_dl_A[i].reshape(1, -1, 3)\n",
    "    F_A_i, err = reg_F_A.register(rigidbody_dl_A_markers, sample_dl_A_i)\n",
    "    F_A.append(F_A_i)\n",
    "\n",
    "F_A = np.array(F_A)\n",
    "\n",
    "# TODO get F_B\n",
    "ridigbody_dl_B_markers = rigidbody_dl_B.markers.reshape(1, -1, 3) # markers of body B in body B coordinates\n",
    "sample_dl_B = sample_dl.body_B # samples of body B markers in tracker coordinates\n",
    "\n",
    "# perform registration for each frame\n",
    "reg_F_B = PointCloudRegistration()\n",
    "F_B = []\n",
    "for i in range(num_samples):\n",
    "    sample_dl_B_i = sample_dl_B[i].reshape(1, -1, 3)\n",
    "\n",
    "    F_B_i, err = reg_F_B.register(ridigbody_dl_B_markers, sample_dl_B_i)\n",
    "    F_B.append(F_B_i)\n",
    "\n",
    "F_B = np.array(F_B)"
   ]
  },
  {
   "cell_type": "markdown",
   "metadata": {},
   "source": [
    "### Get d<sub>k"
   ]
  },
  {
   "cell_type": "code",
   "execution_count": 4,
   "metadata": {},
   "outputs": [
    {
     "name": "stdout",
     "output_type": "stream",
     "text": [
      "(15, 3)\n",
      "[[-37.64833678  -9.48581429 -12.76682898]\n",
      " [-18.60510135  -9.65676445  -4.29505254]\n",
      " [ -2.14008856  -7.91886808  52.44877509]\n",
      " [ 17.87241499 -12.57782081   1.66919045]\n",
      " [-13.95441346  21.50282627  25.2969365 ]\n",
      " [ 28.96426532  19.0550331  -13.73958009]\n",
      " [ 24.2614743   22.12267255  -1.99781554]\n",
      " [-27.75457871 -23.80052244 -48.36744324]\n",
      " [-28.46403537   7.90253067 -35.89238329]\n",
      " [-12.65584902   9.56599089  12.90058673]\n",
      " [-27.11807733 -28.65576806 -14.35566804]\n",
      " [ 37.25503378   5.25779861   4.71164992]\n",
      " [ 20.17629056 -14.87243941  -4.87098927]\n",
      " [ -4.2582231   12.83878122  54.08074924]\n",
      " [ 32.08328176  15.8541175   -2.09464545]]\n"
     ]
    }
   ],
   "source": [
    "A_tip = rigidbody_dl_A.tip\n",
    "A_tip = np.append(A_tip, 1) # add 1 for homogenous coordinates\n",
    "d_k = []\n",
    "\n",
    "for i in range(num_samples):\n",
    "    F_A_i = F_A[i] # get F_A for frame i\n",
    "    F_B_i_inv = np.linalg.inv(F_B[i]) # get F_B inverse for frame i\n",
    "    # print(A_tip.shape)\n",
    "    # print(F_A_i.shape)\n",
    "    # print(F_B_i_inv.shape)\n",
    "\n",
    "    d_k.append(F_B_i_inv @ F_A_i @ A_tip) # d_k = F_B^-1 * F_A * A_tip\n",
    "\n",
    "d_k = np.array(d_k)[:,:3]\n",
    "print(d_k.shape)\n",
    "print(d_k)"
   ]
  },
  {
   "cell_type": "code",
   "execution_count": 8,
   "metadata": {},
   "outputs": [
    {
     "name": "stdout",
     "output_type": "stream",
     "text": [
      "(3135, 3)\n",
      "[[-38.82  -9.64 -11.91]\n",
      " [-19.12  -9.7   -2.94]\n",
      " [ -1.19  -5.73  52.65]\n",
      " [ 17.86 -12.56   1.66]\n",
      " [-14.6   22.22  25.28]\n",
      " [ 30.81  20.12 -13.97]\n",
      " [ 25.46  24.26  -2.07]\n",
      " [-27.05 -21.42 -45.7 ]\n",
      " [-28.55   8.08 -36.  ]\n",
      " [-11.2    8.79  13.3 ]\n",
      " [-27.08 -28.51 -14.42]\n",
      " [ 39.65   4.99   4.85]\n",
      " [ 20.58 -15.33  -4.37]\n",
      " [ -4.79  13.09  54.15]\n",
      " [ 33.31  16.96  -2.28]]\n",
      "[1.46267009 1.44865354 2.39889664 0.02119317 0.96874466 2.13998092\n",
      " 2.4546997  3.64111083 0.22614512 1.69751985 0.16420922 2.41175499\n",
      " 0.78990696 0.5880446  1.65676735]\n"
     ]
    }
   ],
   "source": [
    "icp = IterativeClosestPoint(Matching.BATCHED_LINEAR)\n",
    "\n",
    "# print(surface_dl.triangles)\n",
    "# print(surface_dl.vertices)\n",
    "print(surface_dl.triangles.shape)\n",
    "\n",
    "\n",
    "mesh = Meshgrid(surface_dl.vertices, surface_dl.triangles)\n",
    "\n",
    "\n",
    "# print(surface_dl.vertices[:20])\n",
    "# print(mesh.trangles[-2:])\n",
    "pt, dist = icp.match(d_k, mesh)\n",
    "\n",
    "print(np.around(pt, 2))\n",
    "print(dist)"
   ]
  }
 ],
 "metadata": {
  "kernelspec": {
   "display_name": "Python 3",
   "language": "python",
   "name": "python3"
  },
  "language_info": {
   "codemirror_mode": {
    "name": "ipython",
    "version": 3
   },
   "file_extension": ".py",
   "mimetype": "text/x-python",
   "name": "python",
   "nbconvert_exporter": "python",
   "pygments_lexer": "ipython3",
   "version": "3.9.15"
  }
 },
 "nbformat": 4,
 "nbformat_minor": 2
}
